{
 "cells": [
  {
   "cell_type": "code",
   "execution_count": 1,
   "id": "450d76bf",
   "metadata": {},
   "outputs": [
    {
     "name": "stderr",
     "output_type": "stream",
     "text": [
      "C:\\Users\\ryans\\Anaconda3\\envs\\np_workflows_v1\\lib\\site-packages\\napari_tools_menu\\__init__.py:165: FutureWarning: Public access to Window.qt_viewer is deprecated and will be removed in\n",
      "v0.5.0. It is considered an \"implementation detail\" of the napari\n",
      "application, not part of the napari viewer model. If your use case\n",
      "requires access to qt_viewer, please open an issue to discuss.\n",
      "  self.tools_menu = ToolsMenu(self, self.qt_viewer.viewer)\n"
     ]
    },
    {
     "data": {
      "text/plain": [
       "<napari._qt.widgets.qt_viewer_dock_widget.QtViewerDockWidget at 0x223f00e58b0>"
      ]
     },
     "execution_count": 1,
     "metadata": {},
     "output_type": "execute_result"
    }
   ],
   "source": [
    "import napari\n",
    "from napari_assistant._gui._Assistant import Assistant\n",
    "from skimage.io import imread\n",
    "from napari_assistant._categories import CATEGORIES\n",
    "\n",
    "filename = 'C:/Users/ryans/OneDrive/Desktop/blobs.tif'\n",
    "blobs = imread(filename)\n",
    "blobs_modified = imread('C:/Users/ryans/OneDrive/Desktop/blobs_messed_up.tiff') \n",
    "\n",
    "viewer = napari.Viewer()\n",
    "viewer.add_image(blobs_modified, name = 'not blobs')\n",
    "viewer.add_image(blobs, name = 'blobs2')\n",
    "assistant = Assistant(viewer)\n",
    "viewer.window.add_dock_widget(assistant)"
   ]
  },
  {
   "cell_type": "code",
   "execution_count": null,
   "id": "03d941cc",
   "metadata": {},
   "outputs": [
    {
     "name": "stderr",
     "output_type": "stream",
     "text": [
      "2022-04-25 12:14:41.483 | INFO     | napari_assistant._gui._category_widget:call_op:163 - gaussian_blur (clesperanto)(..., 6.0, 6.0, 0.0)\n"
     ]
    }
   ],
   "source": [
    "assistant.load_workflow(filename='test_long_wf.yaml')"
   ]
  }
 ],
 "metadata": {
  "kernelspec": {
   "display_name": "Python 3 (ipykernel)",
   "language": "python",
   "name": "python3"
  },
  "language_info": {
   "codemirror_mode": {
    "name": "ipython",
    "version": 3
   },
   "file_extension": ".py",
   "mimetype": "text/x-python",
   "name": "python",
   "nbconvert_exporter": "python",
   "pygments_lexer": "ipython3",
   "version": "3.9.7"
  }
 },
 "nbformat": 4,
 "nbformat_minor": 5
}
